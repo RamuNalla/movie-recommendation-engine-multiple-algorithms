{
 "cells": [
  {
   "cell_type": "code",
   "execution_count": 4,
   "id": "7a8ecd62",
   "metadata": {},
   "outputs": [],
   "source": [
    "import numpy as np\n",
    "import pandas as pd\n",
    "import matplotlib.pyplot as plt\n",
    "import seaborn as sns\n",
    "from sklearn.model_selection import train_test_split\n",
    "import warnings\n",
    "warnings.filterwarnings('ignore')\n",
    "\n",
    "# Import our custom modules\n",
    "import sys\n",
    "sys.path.append('../src')\n",
    "\n",
    "from data.data_loader import MovielensDataloader\n",
    "from data.preprocessor import DataPreprocessor\n",
    "from models.collaborative_filtering import CollaborativeFiltering, MemoryEfficientCF\n",
    "from models.matrix_factorization import SVDRecommender, NMFRecommender, ALSRecommender, BiasedMF\n",
    "from models.content_based import ContentBasedRecommender, TFIDFContentRecommender\n",
    "from models.deep_learning import NeuralCollaborativeFiltering, AutoEncoder, WideAndDeep\n",
    "from models.hybrid import WeightedHybrid, SwitchingHybrid, MixedHybrid, FeatureCombinationHybrid\n",
    "from evaluation.metrics import RecommendationMetrics\n",
    "from evaluation.evaluator import RecommendationEvaluator"
   ]
  },
  {
   "cell_type": "code",
   "execution_count": null,
   "id": "204356ec",
   "metadata": {},
   "outputs": [],
   "source": []
  },
  {
   "cell_type": "code",
   "execution_count": null,
   "id": "43289673",
   "metadata": {},
   "outputs": [],
   "source": []
  }
 ],
 "metadata": {
  "kernelspec": {
   "display_name": "Python 3",
   "language": "python",
   "name": "python3"
  },
  "language_info": {
   "codemirror_mode": {
    "name": "ipython",
    "version": 3
   },
   "file_extension": ".py",
   "mimetype": "text/x-python",
   "name": "python",
   "nbconvert_exporter": "python",
   "pygments_lexer": "ipython3",
   "version": "3.13.3"
  }
 },
 "nbformat": 4,
 "nbformat_minor": 5
}
