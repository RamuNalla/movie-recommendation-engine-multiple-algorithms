{
 "cells": [
  {
   "cell_type": "code",
   "execution_count": 1,
   "id": "15ed64a0",
   "metadata": {},
   "outputs": [],
   "source": [
    "import numpy as np\n",
    "import pandas as pd\n",
    "import matplotlib.pyplot as plt\n",
    "import seaborn as sns\n",
    "from sklearn.model_selection import train_test_split\n",
    "import warnings\n",
    "warnings.filterwarnings('ignore')\n",
    "\n",
    "# Import our custom modules\n",
    "import sys\n",
    "sys.path.append('../src')\n",
    "\n",
    "from data.data_loader import MovielensDataloader\n",
    "from data.preprocessor import DataPreprocessor\n",
    "from models.collaborative_filtering import CollaborativeFiltering, MemoryEfficientCF\n",
    "from models.matrix_factorization import SVDRecommender, NMFRecommender, ALSRecommender, BiasedMF\n",
    "from models.content_based import ContentBasedRecommender, TFIDFContentRecommender\n",
    "from models.deep_learning import NeuralCollaborativeFiltering, AutoEncoder, WideAndDeep\n",
    "from models.hybrid import WeightedHybrid, SwitchingHybrid, MixedHybrid, FeatureCombinationHybrid\n",
    "from evaluation.metrics import RecommendationMetrics\n",
    "from evaluation.evaluator import RecommendationEvaluator\n",
    "\n",
    "# Set style for plots\n",
    "plt.style.use('seaborn-v0_8')\n",
    "sns.set_palette(\"husl\")"
   ]
  },
  {
   "cell_type": "code",
   "execution_count": null,
   "id": "bc48df31",
   "metadata": {},
   "outputs": [],
   "source": [
    "print(\"2. Data Preprocessing\")\n",
    "print(\"-\" * 50)\n",
    "\n",
    "# Initialize preprocessor\n",
    "preprocessor = DataPreprocessor()\n",
    "\n",
    "# Create user-item matrix\n",
    "user_item_matrix, matrix_info = preprocessor.create_user_item_matrix(ratings)\n",
    "\n",
    "print(f\"User-Item Matrix Shape: {user_item_matrix.shape}\")\n",
    "print(f\"Matrix Sparsity: {matrix_info['sparsity']:.4f}\")\n",
    "print(f\"Total Ratings: {matrix_info['n_ratings']}\")\n",
    "print()"
   ]
  }
 ],
 "metadata": {
  "kernelspec": {
   "display_name": "Python 3",
   "language": "python",
   "name": "python3"
  },
  "language_info": {
   "codemirror_mode": {
    "name": "ipython",
    "version": 3
   },
   "file_extension": ".py",
   "mimetype": "text/x-python",
   "name": "python",
   "nbconvert_exporter": "python",
   "pygments_lexer": "ipython3",
   "version": "3.13.3"
  }
 },
 "nbformat": 4,
 "nbformat_minor": 5
}
